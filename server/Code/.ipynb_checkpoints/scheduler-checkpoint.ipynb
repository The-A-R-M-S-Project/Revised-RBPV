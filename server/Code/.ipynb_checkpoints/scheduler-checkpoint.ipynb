{
 "cells": [
  {
   "cell_type": "code",
   "execution_count": 2,
   "metadata": {
    "pycharm": {
     "is_executing": false
    }
   },
   "outputs": [
    {
     "ename": "ModuleNotFoundError",
     "evalue": "No module named 'ortools'",
     "output_type": "error",
     "traceback": [
      "\u001b[1;31m---------------------------------------------------------------------------\u001b[0m",
      "\u001b[1;31mModuleNotFoundError\u001b[0m                       Traceback (most recent call last)",
      "\u001b[1;32m<ipython-input-2-865852094ee7>\u001b[0m in \u001b[0;36m<module>\u001b[1;34m\u001b[0m\n\u001b[0;32m      1\u001b[0m \u001b[1;32mfrom\u001b[0m \u001b[0m__future__\u001b[0m \u001b[1;32mimport\u001b[0m \u001b[0mprint_function\u001b[0m\u001b[1;33m\u001b[0m\u001b[1;33m\u001b[0m\u001b[0m\n\u001b[1;32m----> 2\u001b[1;33m \u001b[1;32mfrom\u001b[0m \u001b[0mortools\u001b[0m\u001b[1;33m.\u001b[0m\u001b[0msat\u001b[0m\u001b[1;33m.\u001b[0m\u001b[0mpython\u001b[0m \u001b[1;32mimport\u001b[0m \u001b[0mcp_model\u001b[0m\u001b[1;33m\u001b[0m\u001b[1;33m\u001b[0m\u001b[0m\n\u001b[0m\u001b[0;32m      3\u001b[0m \u001b[1;33m\u001b[0m\u001b[0m\n\u001b[0;32m      4\u001b[0m \u001b[1;32mclass\u001b[0m \u001b[0mRoomsPartialSolutionPrinter\u001b[0m\u001b[1;33m(\u001b[0m\u001b[0mcp_model\u001b[0m\u001b[1;33m.\u001b[0m\u001b[0mCpSolverSolutionCallback\u001b[0m\u001b[1;33m)\u001b[0m\u001b[1;33m:\u001b[0m\u001b[1;33m\u001b[0m\u001b[1;33m\u001b[0m\u001b[0m\n\u001b[0;32m      5\u001b[0m     \u001b[1;34m\"\"\"Print intermediate solutions.\"\"\"\u001b[0m\u001b[1;33m\u001b[0m\u001b[1;33m\u001b[0m\u001b[0m\n",
      "\u001b[1;31mModuleNotFoundError\u001b[0m: No module named 'ortools'"
     ]
    }
   ],
   "source": [
    "from __future__ import print_function\n",
    "from ortools.sat.python import cp_model\n",
    "\n",
    "class RoomsPartialSolutionPrinter(cp_model.CpSolverSolutionCallback):\n",
    "    \"\"\"Print intermediate solutions.\"\"\"\n",
    "\n",
    "    def __init__(self, shifts, num_rooms, num_lectures, num_shifts, sols):\n",
    "        cp_model.CpSolverSolutionCallback.__init__(self)\n",
    "        self._shifts = shifts\n",
    "        self._num_rooms = num_rooms\n",
    "        self._num_lectures = num_lectures\n",
    "        self._num_shifts = num_shifts\n",
    "        self._solutions = set(sols)\n",
    "        self._solution_count = 0\n",
    "        \n",
    "    def on_solution_callback(self):\n",
    "        if self._solution_count in self._solutions:\n",
    "            print('Solution %i' % self._solution_count)\n",
    "            for s in range(self._num_shifts):\n",
    "                print('Shift %i' % s)\n",
    "                for r in range(self._num_rooms):\n",
    "                    is_occupied = False\n",
    "                    for l in range(self._num_lectures):\n",
    "                        if self.Value(self._shifts[(l, s, r)]):\n",
    "                            is_occupied = True\n",
    "                            print('  Lecture %i occupies room %i' % (l, r))\n",
    "                    if not is_occupied:\n",
    "                        print('  Room %i not occupied ' % r)\n",
    "            print()\n",
    "        self._solution_count += 1  \n",
    "        \n",
    "    def solution_count(self):\n",
    "            return self._solution_count\n",
    "        \n",
    "\n",
    "def main():\n",
    "    # Data.\n",
    "    num_rooms = 3\n",
    "    num_lectures = 3\n",
    "    num_shifts = 4\n",
    "    all_rooms = range(num_rooms)\n",
    "    all_shifts = range(num_shifts)\n",
    "    all_lectures = range(num_lectures)\n",
    "    \n",
    "    # Create the model\n",
    "    model = cp_model.CpModel()\n",
    "    \n",
    "    # Creating shift variables\n",
    "    shifts = {}\n",
    "    for l in all_lectures:\n",
    "        for s in all_shifts:\n",
    "            for r in all_rooms:\n",
    "                shifts[(l, s, r)] = model.NewBoolVar('shift_l%i s%i r%i' % (l, s, r))\n",
    "    \n",
    "    # Each lecture is assigned to exactly one room during a given shift\n",
    "    for l in all_lectures:\n",
    "        for r in all_rooms:\n",
    "            model.Add(sum(shifts[(l, s, r)] for s in all_shifts) == 1)\n",
    "\n",
    "    # for r in all_rooms:\n",
    "    #     for s in all_shifts:\n",
    "    #         model.Add(sum(shifts[(l, s, r)] for l in all_lectures) <= 1)\n",
    "    # \n",
    "    # Creates the solver and solve.\n",
    "    solver = cp_model.CpSolver()\n",
    "    solver.parameters.linearization_level = 0\n",
    "    \n",
    "    # Display the first two solutions.\n",
    "    a_few_solutions = range(2)\n",
    "    solution_printer = RoomsPartialSolutionPrinter(\n",
    "        shifts, num_rooms, num_lectures, num_shifts, a_few_solutions)\n",
    "    solver.SearchForAllSolutions(model, solution_printer)\n",
    "   \n",
    "     # Statistics.\n",
    "    print()\n",
    "    print('Statistics')\n",
    "    print('  - conflicts       : %i' % solver.NumConflicts())\n",
    "    print('  - branches        : %i' % solver.NumBranches())\n",
    "    print('  - wall time       : %f s' % solver.WallTime())\n",
    "    print('  - solutions found : %i' % solution_printer.solution_count())\n",
    "\n",
    "\n",
    "if __name__ == '__main__':\n",
    "    main()\n",
    "        "
   ]
  },
  {
   "cell_type": "code",
   "execution_count": null,
   "metadata": {
    "pycharm": {
     "is_executing": true
    }
   },
   "outputs": [],
   "source": []
  }
 ],
 "metadata": {
  "kernelspec": {
   "display_name": "Python 3",
   "language": "python",
   "name": "python3"
  },
  "language_info": {
   "codemirror_mode": {
    "name": "ipython",
    "version": 3
   },
   "file_extension": ".py",
   "mimetype": "text/x-python",
   "name": "python",
   "nbconvert_exporter": "python",
   "pygments_lexer": "ipython3",
   "version": "3.7.4"
  },
  "pycharm": {
   "stem_cell": {
    "cell_type": "raw",
    "metadata": {
     "collapsed": false
    },
    "source": []
   }
  }
 },
 "nbformat": 4,
 "nbformat_minor": 1
}
